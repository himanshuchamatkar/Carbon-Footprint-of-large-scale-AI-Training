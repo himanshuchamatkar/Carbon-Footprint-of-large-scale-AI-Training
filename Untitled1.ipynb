{
 "cells": [
  {
   "cell_type": "code",
   "execution_count": 2,
   "id": "35275471-5675-4bcf-8a88-f191f49c08e9",
   "metadata": {},
   "outputs": [
    {
     "name": "stdin",
     "output_type": "stream",
     "text": [
      "Enter hardware name (e.g., GPU A100, TPU v4, RTX 3090):  rtx 3090\n",
      "Enter power usage in kW:  0.4\n",
      "Enter training duration in hours:  1000\n",
      "Enter CO2 emission factor (kg/kWh, depends on energy source):  0.4\n"
     ]
    },
    {
     "name": "stdout",
     "output_type": "stream",
     "text": [
      "Estimated Carbon Footprint for rtx 3090: 160.00 kg CO2\n"
     ]
    },
    {
     "name": "stdin",
     "output_type": "stream",
     "text": [
      "Do you want to add another hardware entry? (yes/no):  no\n"
     ]
    },
    {
     "name": "stdout",
     "output_type": "stream",
     "text": [
      "\n",
      "Summary of Carbon Footprint Estimates:\n",
      "Empty DataFrame\n",
      "Columns: [Hardware, Power Usage (kW), Training Hours, Emission Factor (kg/kWh), Carbon Footprint (kg CO2)]\n",
      "Index: []\n"
     ]
    }
   ],
   "source": [
    "import pandas as pd\n",
    "\n",
    "def estimate_carbon_footprint(power_usage_kw, training_hours, emission_factor):\n",
    "    \"\"\"\n",
    "    Estimate the carbon footprint of AI training.\n",
    "    \n",
    "    Parameters:\n",
    "    power_usage_kw (float): Power consumption of hardware in kilowatts (kW).\n",
    "    training_hours (float): Total training duration in hours.\n",
    "    emission_factor (float): CO2 emission per kWh (depends on energy source, e.g., 0.4 kg/kWh for fossil fuels).\n",
    "    \n",
    "    Returns:\n",
    "    float: Estimated CO2 emissions in kilograms.\n",
    "    \"\"\"\n",
    "    energy_consumed_kwh = power_usage_kw * training_hours\n",
    "    carbon_emissions_kg = energy_consumed_kwh * emission_factor\n",
    "    return carbon_emissions_kg\n",
    "\n",
    "# User Input\n",
    "hardware = input(\"Enter hardware name (e.g., GPU A100, TPU v4, RTX 3090): \")\n",
    "power_usage_kw = float(input(\"Enter power usage in kW: \"))\n",
    "training_hours = float(input(\"Enter training duration in hours: \"))\n",
    "emission_factor = float(input(\"Enter CO2 emission factor (kg/kWh, depends on energy source): \"))\n",
    "\n",
    "# Estimate carbon footprint\n",
    "carbon_footprint = estimate_carbon_footprint(power_usage_kw, training_hours, emission_factor)\n",
    "print(f\"Estimated Carbon Footprint for {hardware}: {carbon_footprint:.2f} kg CO2\")\n",
    "\n",
    "# Data collection for multiple runs\n",
    "data = []\n",
    "while True:\n",
    "    add_more = input(\"Do you want to add another hardware entry? (yes/no): \").strip().lower()\n",
    "    if add_more != 'yes':\n",
    "        break\n",
    "    \n",
    "    hw = input(\"Enter hardware name: \")\n",
    "    pw = float(input(\"Enter power usage in kW: \"))\n",
    "    th = float(input(\"Enter training duration in hours: \"))\n",
    "    ef = float(input(\"Enter CO2 emission factor (kg/kWh): \"))\n",
    "    cf = estimate_carbon_footprint(pw, th, ef)\n",
    "    data.append([hw, pw, th, ef, cf])\n",
    "\n",
    "# Create DataFrame and display results\n",
    "columns = [\"Hardware\", \"Power Usage (kW)\", \"Training Hours\", \"Emission Factor (kg/kWh)\", \"Carbon Footprint (kg CO2)\"]\n",
    "df = pd.DataFrame(data, columns=columns)\n",
    "print(\"\\nSummary of Carbon Footprint Estimates:\")\n",
    "print(df)\n"
   ]
  },
  {
   "cell_type": "code",
   "execution_count": null,
   "id": "daa557c2-c5d6-40a6-adff-26a3364b9e72",
   "metadata": {},
   "outputs": [],
   "source": []
  }
 ],
 "metadata": {
  "kernelspec": {
   "display_name": "Python 3 (ipykernel)",
   "language": "python",
   "name": "python3"
  },
  "language_info": {
   "codemirror_mode": {
    "name": "ipython",
    "version": 3
   },
   "file_extension": ".py",
   "mimetype": "text/x-python",
   "name": "python",
   "nbconvert_exporter": "python",
   "pygments_lexer": "ipython3",
   "version": "3.11.7"
  }
 },
 "nbformat": 4,
 "nbformat_minor": 5
}
